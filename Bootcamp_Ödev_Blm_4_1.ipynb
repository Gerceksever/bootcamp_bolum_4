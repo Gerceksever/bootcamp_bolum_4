{
 "cells": [
  {
   "cell_type": "markdown",
   "metadata": {},
   "source": [
    "Keşifsel Veri Analizinin amacı nedir?"
   ]
  },
  {
   "cell_type": "markdown",
   "metadata": {},
   "source": [
    "Keşifsel veri analizinin amacı; verilerde gizlenmiş bilgilere ulaşmak, yani veriyi keşfederek analiz etmektir. Bu sayede veri bilimi sürecinin müteakip safhalarında daha sağlıklı ilerlenebilir. "
   ]
  },
  {
   "cell_type": "markdown",
   "metadata": {},
   "source": [
    "Bir e-ticaret şirketinin ürünlerine ait müşteri yorumlarını içeren bir veri kümesi üzerinde çalıştığınızı farz edin. Şirketin web sitesi aracılığıyla toplanan müşteri yorumları içeriğinin olumlu ya da olumsuz olmasına göre 1 ila 5 arasında derecelendirilmiştir.\n",
    "\n",
    "a. Bu ham veride ne tür problemlerle karşılaşmayı beklersiniz?\n",
    "\n",
    "b. Göreviniz müşterilerin yorumlarının olumlu yada olumsuz olduğunu ortaya çıkaran özellikleri belirlemek olsaydı nasıl bir yaplaşımda bulunur ve bunun için hangi metodları kullanırdınız?\n",
    "\n",
    "c. Ham veriden çıkarılabilecek yararlı özelliklerin neler olabilir? Bu verilere nasıl ulaşılabilirsiniz ve bunların faydalı olup olmayacağını nasıl anlayabilirsiniz?"
   ]
  },
  {
   "cell_type": "markdown",
   "metadata": {},
   "source": [
    "a. Yorumları okumak çok zaman alacaktır, 1-5 arası derecelendirme kriterleri ne olacaktır?\n",
    "b. 1-5 arası derecelendirme yorumlarını ayırt etmek, inceleyerek olumlu/olumsuz hususları, yaş/vasıf/meslek/eğitim seviyesi vb. ortak özellikler\n",
    "c. yaş/vasıf/meslek/eğitim seviyesi vb. özelliklerden faydalı olanların tespiti"
   ]
  },
  {
   "cell_type": "code",
   "execution_count": null,
   "metadata": {},
   "outputs": [],
   "source": []
  }
 ],
 "metadata": {
  "kernelspec": {
   "display_name": "Python 3",
   "language": "python",
   "name": "python3"
  },
  "language_info": {
   "codemirror_mode": {
    "name": "ipython",
    "version": 3
   },
   "file_extension": ".py",
   "mimetype": "text/x-python",
   "name": "python",
   "nbconvert_exporter": "python",
   "pygments_lexer": "ipython3",
   "version": "3.7.0"
  }
 },
 "nbformat": 4,
 "nbformat_minor": 2
}
