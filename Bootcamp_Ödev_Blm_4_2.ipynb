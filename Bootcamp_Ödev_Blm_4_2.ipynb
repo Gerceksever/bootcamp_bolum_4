{
 "cells": [
  {
   "cell_type": "markdown",
   "metadata": {},
   "source": [
    "Rank değişkenini kategorik olarak değerlendirmenin avantaj ve dezavantajlarını göz önünde bulundurun. Argümanlarınızı mentorunuzla tartışın."
   ]
  },
  {
   "cell_type": "code",
   "execution_count": null,
   "metadata": {},
   "outputs": [],
   "source": []
  },
  {
   "cell_type": "markdown",
   "metadata": {},
   "source": [
    "Aşağıdaki değişkenlerin türlerini belirleyin:\n",
    "\n",
    "Yaş\n",
    "Maaş\n",
    "Gelir\n",
    "Müşteri türü\n",
    "Hisse senedi fiyatı"
   ]
  },
  {
   "cell_type": "markdown",
   "metadata": {},
   "source": [
    "Yaş:Sürekli\n",
    "Maaş:Sürekli-Oran\n",
    "Gelir:Sürekli-Oran\n",
    "Müşteri Türü:Kategorik-Nominal\n",
    "Hisse Senedi Fiyatı:Sürekli-Oran"
   ]
  },
  {
   "cell_type": "code",
   "execution_count": null,
   "metadata": {},
   "outputs": [],
   "source": []
  }
 ],
 "metadata": {
  "kernelspec": {
   "display_name": "Python 3",
   "language": "python",
   "name": "python3"
  },
  "language_info": {
   "codemirror_mode": {
    "name": "ipython",
    "version": 3
   },
   "file_extension": ".py",
   "mimetype": "text/x-python",
   "name": "python",
   "nbconvert_exporter": "python",
   "pygments_lexer": "ipython3",
   "version": "3.7.0"
  }
 },
 "nbformat": 4,
 "nbformat_minor": 2
}
